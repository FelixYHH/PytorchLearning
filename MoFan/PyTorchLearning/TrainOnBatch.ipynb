{
 "cells": [
  {
   "cell_type": "code",
   "execution_count": 7,
   "metadata": {},
   "outputs": [],
   "source": [
    "import torch\n",
    "import torch.utils.data as Data\n"
   ]
  },
  {
   "cell_type": "code",
   "execution_count": 8,
   "metadata": {},
   "outputs": [
    {
     "name": "stdout",
     "output_type": "stream",
     "text": [
      "Epoch:  0 | Step:  0 | batch x:  [9. 6. 1. 5. 7.] | batch y:  [ 2.  5. 10.  6.  4.]\n",
      "Epoch:  0 | Step:  1 | batch x:  [ 4.  2.  3. 10.  8.] | batch y:  [7. 9. 8. 1. 3.]\n",
      "Epoch:  1 | Step:  0 | batch x:  [2. 6. 5. 8. 1.] | batch y:  [ 9.  5.  6.  3. 10.]\n",
      "Epoch:  1 | Step:  1 | batch x:  [ 9.  4.  7.  3. 10.] | batch y:  [2. 7. 4. 8. 1.]\n",
      "Epoch:  2 | Step:  0 | batch x:  [1. 5. 3. 2. 8.] | batch y:  [10.  6.  8.  9.  3.]\n",
      "Epoch:  2 | Step:  1 | batch x:  [ 4. 10.  7.  6.  9.] | batch y:  [7. 1. 4. 5. 2.]\n"
     ]
    }
   ],
   "source": [
    "\n",
    "#torch中提供帮助整理数据结构的类 DataLoader，可用作包装数据并进行批训练\n",
    "\n",
    "#定义批训练大小\n",
    "batch_size = 5\n",
    "\n",
    "#从一到十的十个点 \n",
    "x = torch.linspace(1,10,10) \n",
    "#从十到一的十个点  \n",
    "y = torch.linspace(10,1,10)\n",
    "\n",
    "torch_dataset = Data.TensorDataset( x,  y)\n",
    "#使用loader进行分批\n",
    "loader = Data.DataLoader(\n",
    "    dataset=torch_dataset,      # torch TensorDataset format (将dataset放入loader中)\n",
    "    batch_size=batch_size,      # mini batch size （每个分批的大小）\n",
    "    shuffle=True,               # random shuffle for training (是否打乱顺序)\n",
    "    num_workers=2,              # subprocesses for loading data(每次loader提取时用两个进程提取)\n",
    ")\n",
    "\n",
    "\n",
    "def  show_batch():\n",
    "    #将生成的数据整体训练三次（每一次整体训练都将数据集从头，按设定的batch_size,分批训练）    \n",
    "    for epoch in range(3):   # train entire dataset 3 times\n",
    "        #若数据集中的数据小于设定的batch_size，则只训练剩下的数据\n",
    "        for step, (batch_x, batch_y) in enumerate(loader):  # for each training step（enumerate：每次提取时都赋予一个索引）\n",
    "            # train your data...\n",
    "            print('Epoch: ', epoch, '| Step: ', step, '| batch x: ',\n",
    "                  batch_x.numpy(), '| batch y: ', batch_y.numpy())\n",
    "\n",
    "\n",
    "if __name__ == '__main__':\n",
    "    show_batch()"
   ]
  },
  {
   "cell_type": "code",
   "execution_count": null,
   "metadata": {},
   "outputs": [],
   "source": []
  }
 ],
 "metadata": {
  "interpreter": {
   "hash": "28d7879a9f52d52c9b873d651e1801a9af99d388e1af963ac20bd36df56517c0"
  },
  "kernelspec": {
   "display_name": "Python 3.8.8 64-bit ('base': conda)",
   "name": "python3"
  },
  "language_info": {
   "codemirror_mode": {
    "name": "ipython",
    "version": 3
   },
   "file_extension": ".py",
   "mimetype": "text/x-python",
   "name": "python",
   "nbconvert_exporter": "python",
   "pygments_lexer": "ipython3",
   "version": "3.8.8"
  },
  "orig_nbformat": 4
 },
 "nbformat": 4,
 "nbformat_minor": 2
}
