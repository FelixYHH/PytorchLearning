{
 "cells": [
  {
   "cell_type": "code",
   "execution_count": 1,
   "source": [
    "import torch \r\n",
    "import numpy as np\r\n",
    "\r\n"
   ],
   "outputs": [],
   "metadata": {}
  },
  {
   "cell_type": "code",
   "execution_count": 2,
   "source": [
    "#numpy转tensor\r\n",
    "np_data = np.arange(6).reshape(2,3)\r\n",
    "torch_data = torch.from_numpy(np_data)\r\n",
    "\r\n",
    "print(np_data,torch_data)"
   ],
   "outputs": [
    {
     "output_type": "stream",
     "name": "stdout",
     "text": [
      "[[0 1 2]\n",
      " [3 4 5]] tensor([[0, 1, 2],\n",
      "        [3, 4, 5]], dtype=torch.int32)\n"
     ]
    }
   ],
   "metadata": {}
  },
  {
   "cell_type": "code",
   "execution_count": 3,
   "source": [
    "#tensor转numpy\r\n",
    "tensorToarray = torch_data.numpy()\r\n",
    "print(tensorToarray)"
   ],
   "outputs": [
    {
     "output_type": "stream",
     "name": "stdout",
     "text": [
      "[[0 1 2]\n",
      " [3 4 5]]\n"
     ]
    }
   ],
   "metadata": {}
  },
  {
   "cell_type": "code",
   "execution_count": 4,
   "source": [
    "#abs:绝对值\r\n",
    "data = [-1,-2,1,2]\r\n",
    "tensor = torch.FloatTensor(data)\r\n",
    "print(\r\n",
    "    '\\nabs',\r\n",
    "    '\\nnumpy:',np.abs(data),\r\n",
    "    '\\ntorch:',torch.abs(tensor)\r\n",
    ")"
   ],
   "outputs": [
    {
     "output_type": "stream",
     "name": "stdout",
     "text": [
      "\n",
      "abs \n",
      "numpy: [1 2 1 2] \n",
      "torch: tensor([1., 2., 1., 2.])\n"
     ]
    }
   ],
   "metadata": {}
  },
  {
   "cell_type": "code",
   "execution_count": 6,
   "source": [
    "#三角函数\r\n",
    "data = [-1,-2,1,2]\r\n",
    "tensor = torch.FloatTensor(data)\r\n",
    "print(\r\n",
    "    '\\nsin',\r\n",
    "    '\\nnumpy:',np.mean(data),\r\n",
    "    '\\ntorch:',torch.mean(tensor)\r\n",
    ")"
   ],
   "outputs": [
    {
     "output_type": "stream",
     "name": "stdout",
     "text": [
      "\n",
      "sin \n",
      "numpy: 0.0 \n",
      "torch: tensor(0.)\n"
     ]
    }
   ],
   "metadata": {}
  },
  {
   "cell_type": "code",
   "execution_count": 7,
   "source": [
    "#矩阵相乘\r\n",
    "data = [[1,2],[3,4]]\r\n",
    "data = np.array(data)\r\n",
    "tensor = torch.FloatTensor(data)\r\n",
    "\r\n",
    "print(\r\n",
    "    '\\nnumpy:',np.matmul(data,data),#data.dot(data)\r\n",
    "    '\\ntorch:',torch.mm(tensor,tensor)\r\n",
    ")"
   ],
   "outputs": [],
   "metadata": {}
  },
  {
   "cell_type": "code",
   "execution_count": null,
   "source": [],
   "outputs": [],
   "metadata": {}
  }
 ],
 "metadata": {
  "orig_nbformat": 4,
  "language_info": {
   "name": "python",
   "version": "3.8.8",
   "mimetype": "text/x-python",
   "codemirror_mode": {
    "name": "ipython",
    "version": 3
   },
   "pygments_lexer": "ipython3",
   "nbconvert_exporter": "python",
   "file_extension": ".py"
  },
  "kernelspec": {
   "name": "python3",
   "display_name": "Python 3.8.8 64-bit ('base': conda)"
  },
  "interpreter": {
   "hash": "28d7879a9f52d52c9b873d651e1801a9af99d388e1af963ac20bd36df56517c0"
  }
 },
 "nbformat": 4,
 "nbformat_minor": 2
}