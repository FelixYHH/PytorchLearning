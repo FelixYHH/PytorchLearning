{
 "cells": [
  {
   "cell_type": "code",
   "execution_count": 1,
   "source": [
    "import torch\r\n",
    "import torch.nn.functional as F\r\n",
    "from torch.autograd import Variable\r\n",
    "import matplotlib.pyplot as plt\r\n"
   ],
   "outputs": [],
   "metadata": {}
  },
  {
   "cell_type": "code",
   "execution_count": 2,
   "source": [
    "#将线段切段\r\n",
    "x = torch.linspace(-5,5,200) \r\n",
    "\r\n",
    "x = Variable(x)\r\n",
    "x_np = x.data.numpy()"
   ],
   "outputs": [],
   "metadata": {}
  },
  {
   "cell_type": "code",
   "execution_count": 4,
   "source": [
    "y_relu = F.relu(x).data.numpy()\r\n",
    "y_sigmoid = F.sigmoid(x).data.numpy()\r\n",
    "y_tanh = F.tanh(x).data.numpy()\r\n",
    "y_softplus = F.softplus(x).data.numpy()\r\n",
    "#y_softmax = F.softmax(x).data.numpy()\r\n",
    "\r\n",
    "#画图\r\n",
    "plt.figure(1,figsize=(8,6))\r\n",
    "plt.subplot(221)\r\n",
    "plt.plot(x_np,y_relu,c='red',label='relu')\r\n",
    "plt.ylim((-1,5))\r\n",
    "plt.legend(loc='best')\r\n",
    "\r\n",
    "5"
   ],
   "outputs": [
    {
     "output_type": "stream",
     "name": "stderr",
     "text": [
      "D:\\Setup\\Anaconda\\lib\\site-packages\\torch\\nn\\functional.py:1806: UserWarning: nn.functional.sigmoid is deprecated. Use torch.sigmoid instead.\n",
      "  warnings.warn(\"nn.functional.sigmoid is deprecated. Use torch.sigmoid instead.\")\n",
      "D:\\Setup\\Anaconda\\lib\\site-packages\\torch\\nn\\functional.py:1795: UserWarning: nn.functional.tanh is deprecated. Use torch.tanh instead.\n",
      "  warnings.warn(\"nn.functional.tanh is deprecated. Use torch.tanh instead.\")\n"
     ]
    },
    {
     "output_type": "execute_result",
     "data": {
      "text/plain": [
       "<matplotlib.legend.Legend at 0x1f8d4f1fa30>"
      ]
     },
     "metadata": {},
     "execution_count": 4
    },
    {
     "output_type": "display_data",
     "data": {
      "image/png": "[encoded data removed]",
      "text/plain": [
       "<Figure size 576x432 with 1 Axes>"
      ]
     },
     "metadata": {
      "needs_background": "light"
     }
    }
   ],
   "metadata": {}
  },
  {
   "cell_type": "code",
   "execution_count": null,
   "source": [],
   "outputs": [],
   "metadata": {}
  }
 ],
 "metadata": {
  "orig_nbformat": 4,
  "language_info": {
   "name": "python",
   "version": "3.8.8",
   "mimetype": "text/x-python",
   "codemirror_mode": {
    "name": "ipython",
    "version": 3
   },
   "pygments_lexer": "ipython3",
   "nbconvert_exporter": "python",
   "file_extension": ".py"
  },
  "kernelspec": {
   "name": "python3",
   "display_name": "Python 3.8.8 64-bit ('base': conda)"
  },
  "interpreter": {
   "hash": "28d7879a9f52d52c9b873d651e1801a9af99d388e1af963ac20bd36df56517c0"
  }
 },
 "nbformat": 4,
 "nbformat_minor": 2
}