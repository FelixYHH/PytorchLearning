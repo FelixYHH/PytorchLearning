{
 "cells": [
  {
   "cell_type": "code",
   "execution_count": 25,
   "source": [
    "import torch\r\n",
    "import torch.nn as nn\r\n",
    "from torch.autograd import Variable\r\n",
    "import torch.utils.data as Data\r\n",
    "import torchvision\r\n",
    "import matplotlib.pyplot as plt\r\n",
    "\r\n"
   ],
   "outputs": [],
   "metadata": {}
  },
  {
   "cell_type": "code",
   "execution_count": 26,
   "source": [
    "epoch = 1\r\n",
    "batch_size = 50\r\n",
    "lr = 0.001\r\n",
    "download_mnist = False\r\n"
   ],
   "outputs": [],
   "metadata": {}
  },
  {
   "cell_type": "code",
   "execution_count": 27,
   "source": [
    "#下载dataset\r\n",
    "train_data = torchvision.datasets.MNIST(\r\n",
    "    root='./data', #存储路径\r\n",
    "    train = True, #下载训练集\r\n",
    "    transform = torchvision.transforms.ToTensor(),#将数据集改成tensor格式 将图片中的像素值从（0-255）压缩至（0-1）\r\n",
    "    download = download_mnist\r\n",
    ")\r\n",
    "\r\n",
    "#绘图\r\n",
    "print(train_data.train_data.size())                 # (60000, 28, 28)\r\n",
    "print(train_data.train_labels.size())               # (60000)\r\n",
    "plt.imshow(train_data.train_data[0].numpy(), cmap='gray')\r\n",
    "plt.title('%i' % train_data.train_labels[0])\r\n",
    "plt.show()\r\n"
   ],
   "outputs": [
    {
     "output_type": "stream",
     "name": "stdout",
     "text": [
      "torch.Size([60000, 28, 28])\n",
      "torch.Size([60000])\n"
     ]
    },
    {
     "output_type": "stream",
     "name": "stderr",
     "text": [
      "D:\\Setup\\Anaconda\\lib\\site-packages\\torchvision\\datasets\\mnist.py:62: UserWarning: train_data has been renamed data\n",
      "  warnings.warn(\"train_data has been renamed data\")\n",
      "D:\\Setup\\Anaconda\\lib\\site-packages\\torchvision\\datasets\\mnist.py:52: UserWarning: train_labels has been renamed targets\n",
      "  warnings.warn(\"train_labels has been renamed targets\")\n"
     ]
    },
    {
     "output_type": "display_data",
     "data": {
      "image/png": "[encoded data removed]",
      "text/plain": [
       "<Figure size 432x288 with 1 Axes>"
      ]
     },
     "metadata": {
      "needs_background": "light"
     }
    }
   ],
   "metadata": {}
  },
  {
   "cell_type": "code",
   "execution_count": 28,
   "source": [
    "train_loader = Data.DataLoader(dataset=train_data,batch_size=batch_size,shuffle=True,num_workers=2)\r\n",
    "#提取的是test_data\r\n",
    "test_data = torchvision.datasets.MNIST('./data/',train=False)\r\n",
    "\r\n",
    "#提取test_data中的test_data\r\n",
    "test_x = torch.unsqueeze(test_data.test_data, dim=1).type(torch.FloatTensor)[:2000]/255.\r\n",
    "\r\n",
    "test_y = test_data.test_labels[:2000] #只取前2000个\r\n",
    "\r\n",
    "#建立cnn网络\r\n",
    "class CNN(nn.Module):\r\n",
    "    def __init__(self) -> None:\r\n",
    "        super(CNN,self).__init__()\r\n",
    "        self.conv1 = nn.Sequential(\r\n",
    "            #卷积层（过滤器）：长和宽规定了单次在图片多大区域提取，高规定区域的信息特征种类数量\r\n",
    "            nn.Conv2d(         #输入的图片（1,,28,28) --> (维数，长，宽)\r\n",
    "                in_channels=1, #图片高度（维数、层数)\r\n",
    "                out_channels=16, #卷积核个数\r\n",
    "                kernel_size=5,#卷积核的大小（长宽相同）\r\n",
    "                stride=1,#卷积核的单次跳度\r\n",
    "                padding=2,# if stride = 1,padding = (kernel_size-1)/2 = (5-1)/2  \r\n",
    "            ),  #--> (16,28,28)\r\n",
    "            nn.ReLU(),\r\n",
    "            nn.MaxPool2d(kernel_size=2),#筛选区域的重要信息  --->(16,14,14)\r\n",
    "        )\r\n",
    "\r\n",
    "        self.conv2 = nn.Sequential(\r\n",
    "            nn.Conv2d(16,32,5,1,2),#输入16层，输出为32，核数5，步距1，padding2  ---> (32,14,14)\r\n",
    "            nn.ReLU(),\r\n",
    "            nn.MaxPool2d(2) #最大池化   --->(32,7,7)\r\n",
    "        )\r\n",
    "        \r\n",
    "        \r\n",
    "        self.out = nn.Linear(32 * 7 * 7 , 10) #输出为10，有10个类别\r\n",
    "\r\n",
    "    def forward(self,x):\r\n",
    "        x = self.conv1(x)\r\n",
    "        x = self.conv2(x)   #(batch,32,7,7)\r\n",
    "        x = x.view(x.size(0),-1)   #(batch,32*7*7)\r\n",
    "        output = self.out(x)\r\n",
    "        return output , x\r\n",
    "\r\n",
    "\r\n",
    "cnn = CNN()\r\n",
    "optimizer = torch.optim.Adam(cnn.parameters(),lr=lr)\r\n",
    "loss_func = nn.CrossEntropyLoss()\r\n",
    "\r\n",
    "# 训练过程\r\n",
    "for epoch in range(epoch):\r\n",
    "    for step, (b_x, b_y) in enumerate(train_loader):   # gives batch data, normalize x when iterate train_loader\r\n",
    "\r\n",
    "        output = cnn(b_x)[0]               # cnn output\r\n",
    "        loss = loss_func(output, b_y)   # cross entropy loss\r\n",
    "        optimizer.zero_grad()           # clear gradients for this training step\r\n",
    "        loss.backward()                 # backpropagation, compute gradients\r\n",
    "        optimizer.step()                # apply gradients\r\n",
    "\r\n",
    "\r\n",
    "\r\n",
    "# print 10 predictions from test data\r\n",
    "#真实值\r\n",
    "test_output, _ = cnn(test_x[:10])\r\n",
    "#预测值\r\n",
    "pred_y = torch.max(test_output, 1)[1].data.numpy()\r\n",
    "print(pred_y, 'prediction number')\r\n",
    "print(test_y[:10].numpy(), 'real number')\r\n"
   ],
   "outputs": [
    {
     "output_type": "stream",
     "name": "stderr",
     "text": [
      "D:\\Setup\\Anaconda\\lib\\site-packages\\torchvision\\datasets\\mnist.py:67: UserWarning: test_data has been renamed data\n",
      "  warnings.warn(\"test_data has been renamed data\")\n",
      "D:\\Setup\\Anaconda\\lib\\site-packages\\torchvision\\datasets\\mnist.py:57: UserWarning: test_labels has been renamed targets\n",
      "  warnings.warn(\"test_labels has been renamed targets\")\n"
     ]
    },
    {
     "output_type": "stream",
     "name": "stdout",
     "text": [
      "[7 2 1 0 4 1 4 9 5 9] prediction number\n",
      "[7 2 1 0 4 1 4 9 5 9] real number\n"
     ]
    }
   ],
   "metadata": {}
  }
 ],
 "metadata": {
  "orig_nbformat": 4,
  "language_info": {
   "name": "python",
   "version": "3.8.8",
   "mimetype": "text/x-python",
   "codemirror_mode": {
    "name": "ipython",
    "version": 3
   },
   "pygments_lexer": "ipython3",
   "nbconvert_exporter": "python",
   "file_extension": ".py"
  },
  "kernelspec": {
   "name": "python3",
   "display_name": "Python 3.8.8 64-bit ('base': conda)"
  },
  "interpreter": {
   "hash": "28d7879a9f52d52c9b873d651e1801a9af99d388e1af963ac20bd36df56517c0"
  }
 },
 "nbformat": 4,
 "nbformat_minor": 2
}