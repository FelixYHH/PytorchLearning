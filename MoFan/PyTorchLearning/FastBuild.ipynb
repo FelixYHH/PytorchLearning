{
 "cells": [
  {
   "cell_type": "code",
   "execution_count": 1,
   "source": [
    "import torch\r\n",
    "from torch.autograd import Variable\r\n",
    "import torch.nn.functional as F\r\n",
    "import matplotlib.pyplot as plt\r\n",
    "\r\n",
    "\r\n",
    "\r\n",
    "#方法一\r\n",
    "class Net(torch.nn.Module):\r\n",
    "    def __init__(self,n_features,n_hidden,n_output) -> None:\r\n",
    "        super(Net,self).__init__()\r\n",
    "        #定义隐藏层。隐藏层中的属性就是参数\r\n",
    "        self.hidden = torch.nn.Linear(n_features,n_hidden)\r\n",
    "        self.predict = torch.nn.Linear(n_hidden,n_output)\r\n",
    "\r\n",
    "    #x : 输入信息\r\n",
    "    def forward(self,x):\r\n",
    "        #激励函数激活(嵌套隐藏层输出信息)\r\n",
    "        x = F.relu(self.hidden(x))\r\n",
    "        #输出层(回归问题一般不需要激励函数，会舍弃了部分负值内容)\r\n",
    "        x = self.predict(x)\r\n",
    "        return x \r\n",
    "\r\n",
    "net1 = Net(1,10,1)\r\n",
    "\r\n",
    "\r\n",
    "\r\n",
    "#方法二  Sequential函数逐层累建\r\n",
    "net2 = torch.nn.Sequential(\r\n",
    "    torch.nn.Linear(2,10),\r\n",
    "    torch.nn.ReLU(),\r\n",
    "    torch.nn.Linear(10,2)\r\n",
    "    \r\n",
    ")\r\n",
    "\r\n",
    "print(net1)\r\n",
    "print(net2)\r\n",
    "\r\n",
    "\r\n",
    "\r\n"
   ],
   "outputs": [
    {
     "output_type": "stream",
     "name": "stdout",
     "text": [
      "Net(\n",
      "  (hidden): Linear(in_features=1, out_features=10, bias=True)\n",
      "  (predict): Linear(in_features=10, out_features=1, bias=True)\n",
      ")\n",
      "Sequential(\n",
      "  (0): Linear(in_features=2, out_features=10, bias=True)\n",
      "  (1): ReLU()\n",
      "  (2): Linear(in_features=10, out_features=2, bias=True)\n",
      ")\n"
     ]
    }
   ],
   "metadata": {}
  }
 ],
 "metadata": {
  "orig_nbformat": 4,
  "language_info": {
   "name": "python",
   "version": "3.8.8",
   "mimetype": "text/x-python",
   "codemirror_mode": {
    "name": "ipython",
    "version": 3
   },
   "pygments_lexer": "ipython3",
   "nbconvert_exporter": "python",
   "file_extension": ".py"
  },
  "kernelspec": {
   "name": "python3",
   "display_name": "Python 3.8.8 64-bit ('base': conda)"
  },
  "interpreter": {
   "hash": "28d7879a9f52d52c9b873d651e1801a9af99d388e1af963ac20bd36df56517c0"
  }
 },
 "nbformat": 4,
 "nbformat_minor": 2
}